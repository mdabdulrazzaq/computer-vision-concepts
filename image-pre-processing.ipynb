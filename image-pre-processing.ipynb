{
 "cells": [
  {
   "cell_type": "markdown",
   "metadata": {},
   "source": [
    "### **1. Image Pre-Processing Overview**\n",
    "\n",
    "Image pre-processing involves low-level operations that prepare an image for further analysis or processing. Common operations include:\n",
    "\n",
    "- **Gray level transformations**: Adjusting pixel intensity values.\n",
    "- **Noise filtering**: Removing unwanted noise from the image.\n",
    "- **Image enhancement**: Improving the visual quality of the image.\n",
    "\n",
    "These operations are often implemented using **discrete convolution**, which is a mathematical operation that combines two signals (in this case, the image and a filter/kernel).\n"
   ]
  },
  {
   "cell_type": "markdown",
   "metadata": {},
   "source": [
    "### **2. Discrete Convolution**\n",
    "\n",
    "- **What is it?**\n",
    "    \n",
    "    Convolution is a process where a small matrix (called a kernel or filter) slides over the image, and at each position, it computes a weighted sum of the pixel values in the neighborhood of the kernel. This weighted sum becomes the new pixel value in the output image.\n",
    "    \n",
    "- **Intuition**:\n",
    "    \n",
    "    Think of convolution as a way to \"blend\" or \"mix\" the pixel values in a local area. The kernel determines how much each neighboring pixel contributes to the new pixel value.\n",
    "    \n",
    "- **Visualization**:\n",
    "    \n",
    "    You can visualize convolution by showing how the kernel moves over the image and computes the new pixel values. For example, you can animate the kernel sliding over the image and updating the output.\n",
    "    \n"
   ]
  },
  {
   "cell_type": "code",
   "execution_count": 1,
   "metadata": {},
   "outputs": [
    {
     "name": "stdout",
     "output_type": "stream",
     "text": [
      "Requirement already satisfied: numpy in ./.venv/lib/python3.13/site-packages (2.2.3)\n",
      "Requirement already satisfied: spicy in ./.venv/lib/python3.13/site-packages (0.16.0)\n",
      "Requirement already satisfied: matplotlib in ./.venv/lib/python3.13/site-packages (3.10.0)\n",
      "Requirement already satisfied: scipy in ./.venv/lib/python3.13/site-packages (from spicy) (1.15.1)\n",
      "Requirement already satisfied: contourpy>=1.0.1 in ./.venv/lib/python3.13/site-packages (from matplotlib) (1.3.1)\n",
      "Requirement already satisfied: cycler>=0.10 in ./.venv/lib/python3.13/site-packages (from matplotlib) (0.12.1)\n",
      "Requirement already satisfied: fonttools>=4.22.0 in ./.venv/lib/python3.13/site-packages (from matplotlib) (4.56.0)\n",
      "Requirement already satisfied: kiwisolver>=1.3.1 in ./.venv/lib/python3.13/site-packages (from matplotlib) (1.4.8)\n",
      "Requirement already satisfied: packaging>=20.0 in ./.venv/lib/python3.13/site-packages (from matplotlib) (24.2)\n",
      "Requirement already satisfied: pillow>=8 in ./.venv/lib/python3.13/site-packages (from matplotlib) (11.1.0)\n",
      "Requirement already satisfied: pyparsing>=2.3.1 in ./.venv/lib/python3.13/site-packages (from matplotlib) (3.2.1)\n",
      "Requirement already satisfied: python-dateutil>=2.7 in ./.venv/lib/python3.13/site-packages (from matplotlib) (2.9.0.post0)\n",
      "Requirement already satisfied: six>=1.5 in ./.venv/lib/python3.13/site-packages (from python-dateutil>=2.7->matplotlib) (1.17.0)\n",
      "Note: you may need to restart the kernel to use updated packages.\n"
     ]
    }
   ],
   "source": [
    "pip install numpy spicy matplotlib"
   ]
  },
  {
   "cell_type": "code",
   "execution_count": 4,
   "metadata": {},
   "outputs": [
    {
     "data": {
      "image/png": "[encoded data removed]",
      "text/plain": [
       "<Figure size 640x480 with 1 Axes>"
      ]
     },
     "metadata": {},
     "output_type": "display_data"
    }
   ],
   "source": [
    "import numpy as np\n",
    "from scipy.signal import convolve2d\n",
    "import matplotlib.pyplot as plt\n",
    "\n",
    "# Example image\n",
    "image = np.array([[1, 2, 3], [4, 5, 6], [7, 8, 9]])\n",
    "\n",
    "# Example kernel (mean filter)\n",
    "kernel = np.ones((3, 3)) / 9\n",
    "\n",
    "# Apply convolution\n",
    "output = convolve2d(image, kernel, mode='same')\n",
    "\n",
    "# Visualize\n",
    "plt.imshow(output, cmap='gray')\n",
    "plt.title(\"Convolution Output\")\n",
    "plt.show()\n"
   ]
  },
  {
   "cell_type": "markdown",
   "metadata": {},
   "source": [
    "### **3. Noise and Filters**\n",
    "\n",
    "- **Types of Noise**:\n",
    "    - **Salt & Pepper Noise**: Random black and white pixels.\n",
    "    - **Gaussian Noise**: Random noise with a Gaussian distribution.\n",
    "    - **Impulse Noise**: Random spikes in intensity.\n",
    "- **Filters**:\n",
    "    - **Mean Filter**: Replaces each pixel with the average of its neighbors. Good for Gaussian noise but blurs edges.\n",
    "    - **Median Filter**: Replaces each pixel with the median of its neighbors. Great for salt & pepper noise and preserves edges.\n",
    "    - **Gaussian Filter**: Smooths the image using a Gaussian kernel. Good for Gaussian noise.\n",
    "- **Intuition**:\n",
    "    - **Mean Filter**: Think of it as \"blurring\" the image by averaging nearby pixels.\n",
    "    - **Median Filter**: Think of it as \"cleaning up\" the image by removing extreme values (like salt & pepper noise).\n",
    "    - **Gaussian Filter**: Think of it as a \"soft blur\" that preserves more details than a mean filter."
   ]
  },
  {
   "cell_type": "code",
   "execution_count": 5,
   "metadata": {},
   "outputs": [
    {
     "data": {
      "image/png": "[encoded data removed]",
      "text/plain": [
       "<Figure size 1500x500 with 3 Axes>"
      ]
     },
     "metadata": {},
     "output_type": "display_data"
    }
   ],
   "source": [
    "from scipy.ndimage import median_filter, gaussian_filter\n",
    "\n",
    "# Apply mean filter\n",
    "mean_filtered = convolve2d(image, kernel, mode='same')\n",
    "\n",
    "# Apply median filter\n",
    "median_filtered = median_filter(image, size=3)\n",
    "\n",
    "# Apply Gaussian filter\n",
    "gaussian_filtered = gaussian_filter(image, sigma=1)\n",
    "\n",
    "# Visualize\n",
    "fig, axes = plt.subplots(1, 3, figsize=(15, 5))\n",
    "axes[0].imshow(mean_filtered, cmap='gray')\n",
    "axes[0].set_title(\"Mean Filter\")\n",
    "axes[1].imshow(median_filtered, cmap='gray')\n",
    "axes[1].set_title(\"Median Filter\")\n",
    "axes[2].imshow(gaussian_filtered, cmap='gray')\n",
    "axes[2].set_title(\"Gaussian Filter\")\n",
    "plt.show()"
   ]
  },
  {
   "cell_type": "markdown",
   "metadata": {},
   "source": [
    "### **Image Enhancement**\n",
    "\n",
    "- **Histogram Equalization**:\n",
    "    - **What is it?**\n",
    "        \n",
    "        It redistributes the intensity values of an image so that the histogram of the output image is more uniform. This improves contrast.\n",
    "        \n",
    "    - **Intuition**:\n",
    "        \n",
    "        Think of it as \"stretching\" the intensity values to cover the full range, making dark areas darker and bright areas brighter."
   ]
  },
  {
   "cell_type": "code",
   "execution_count": 6,
   "metadata": {},
   "outputs": [
    {
     "name": "stdout",
     "output_type": "stream",
     "text": [
      "Requirement already satisfied: scikit-image in ./.venv/lib/python3.13/site-packages (0.25.1)\n",
      "Requirement already satisfied: numpy>=1.24 in ./.venv/lib/python3.13/site-packages (from scikit-image) (2.2.3)\n",
      "Requirement already satisfied: scipy>=1.11.2 in ./.venv/lib/python3.13/site-packages (from scikit-image) (1.15.1)\n",
      "Requirement already satisfied: networkx>=3.0 in ./.venv/lib/python3.13/site-packages (from scikit-image) (3.4.2)\n",
      "Requirement already satisfied: pillow>=10.1 in ./.venv/lib/python3.13/site-packages (from scikit-image) (11.1.0)\n",
      "Requirement already satisfied: imageio!=2.35.0,>=2.33 in ./.venv/lib/python3.13/site-packages (from scikit-image) (2.37.0)\n",
      "Requirement already satisfied: tifffile>=2022.8.12 in ./.venv/lib/python3.13/site-packages (from scikit-image) (2025.1.10)\n",
      "Requirement already satisfied: packaging>=21 in ./.venv/lib/python3.13/site-packages (from scikit-image) (24.2)\n",
      "Requirement already satisfied: lazy-loader>=0.4 in ./.venv/lib/python3.13/site-packages (from scikit-image) (0.4)\n",
      "Note: you may need to restart the kernel to use updated packages.\n"
     ]
    }
   ],
   "source": [
    "pip install scikit-image"
   ]
  },
  {
   "cell_type": "code",
   "execution_count": 7,
   "metadata": {},
   "outputs": [
    {
     "data": {
      "image/png": "[encoded data removed]",
      "text/plain": [
       "<Figure size 640x480 with 1 Axes>"
      ]
     },
     "metadata": {},
     "output_type": "display_data"
    }
   ],
   "source": [
    "from skimage import exposure\n",
    "\n",
    "# Apply histogram equalization\n",
    "equalized = exposure.equalize_hist(image)\n",
    "\n",
    "# Visualize\n",
    "plt.imshow(equalized, cmap='gray')\n",
    "plt.title(\"Histogram Equalization\")\n",
    "plt.show()\n"
   ]
  },
  {
   "cell_type": "markdown",
   "metadata": {},
   "source": [
    "- **Gamma Correction**:\n",
    "    - **What is it?**\n",
    "        \n",
    "        It adjusts the brightness of an image by applying a non-linear transformation to the pixel values.\n",
    "        \n",
    "    - **Intuition**:\n",
    "        \n",
    "        Think of it as \"boosting\" the brightness of dark areas without overexposing bright areas."
   ]
  },
  {
   "cell_type": "code",
   "execution_count": 8,
   "metadata": {},
   "outputs": [
    {
     "data": {
      "image/png": "[encoded data removed]",
      "text/plain": [
       "<Figure size 640x480 with 1 Axes>"
      ]
     },
     "metadata": {},
     "output_type": "display_data"
    }
   ],
   "source": [
    "# Apply gamma correction\n",
    "gamma_corrected = exposure.adjust_gamma(image, gamma=0.5)\n",
    "\n",
    "# Visualize\n",
    "plt.imshow(gamma_corrected, cmap='gray')\n",
    "plt.title(\"Gamma Correction\")\n",
    "plt.show()\n"
   ]
  },
  {
   "cell_type": "markdown",
   "metadata": {},
   "source": [
    "### **Putting It All Together in a Jupyter Notebook**\n",
    "\n",
    "To make the concepts visually intuitive, you can create a Jupyter Notebook with the following structure:\n",
    "\n",
    "1. **Load an Image**: Start by loading a sample image (e.g., using `matplotlib` or `opencv`).\n",
    "2. **Add Noise**: Add different types of noise (salt & pepper, Gaussian, etc.) to the image.\n",
    "3. **Apply Filters**: Show the effect of mean, median, and Gaussian filters on the noisy image.\n",
    "4. **Enhance the Image**: Apply histogram equalization and gamma correction to improve the image.\n",
    "5. **Visualize Results**: Use `matplotlib` to display the original, noisy, filtered, and enhanced images side by side."
   ]
  },
  {
   "cell_type": "code",
   "execution_count": null,
   "metadata": {},
   "outputs": [],
   "source": [
    "# Import libraries\n",
    "import numpy as np\n",
    "import matplotlib.pyplot as plt\n",
    "from scipy.signal import convolve2d\n",
    "from scipy.ndimage import median_filter, gaussian_filter\n",
    "from skimage import exposure\n",
    "\n",
    "# Load an image\n",
    "image = plt.imread('sample_image.jpg')\n",
    "\n",
    "# Add noise\n",
    "noisy_image = add_noise(image, noise_type='salt_pepper')\n",
    "\n",
    "# Apply filters\n",
    "mean_filtered = convolve2d(noisy_image, kernel, mode='same')\n",
    "median_filtered = median_filter(noisy_image, size=3)\n",
    "gaussian_filtered = gaussian_filter(noisy_image, sigma=1)\n",
    "\n",
    "# Enhance the image\n",
    "equalized = exposure.equalize_hist(image)\n",
    "gamma_corrected = exposure.adjust_gamma(image, gamma=0.5)\n",
    "\n",
    "# Visualize results\n",
    "fig, axes = plt.subplots(2, 3, figsize=(15, 10))\n",
    "axes[0, 0].imshow(image, cmap='gray')\n",
    "axes[0, 0].set_title(\"Original Image\")\n",
    "axes[0, 1].imshow(noisy_image, cmap='gray')\n",
    "axes[0, 1].set_title(\"Noisy Image\")\n",
    "axes[0, 2].imshow(mean_filtered, cmap='gray')\n",
    "axes[0, 2].set_title(\"Mean Filter\")\n",
    "axes[1, 0].imshow(median_filtered, cmap='gray')\n",
    "axes[1, 0].set_title(\"Median Filter\")\n",
    "axes[1, 1].imshow(gaussian_filtered, cmap='gray')\n",
    "axes[1, 1].set_title(\"Gaussian Filter\")\n",
    "axes[1, 2].imshow(equalized, cmap='gray')\n",
    "axes[1, 2].set_title(\"Histogram Equalization\")\n",
    "plt.show()\n"
   ]
  },
  {
   "cell_type": "markdown",
   "metadata": {},
   "source": [
    "### **Key Takeaways**\n",
    "\n",
    "- **Convolution**: A sliding window operation that blends pixel values using a kernel.\n",
    "- **Filters**: Mean, median, and Gaussian filters are used to remove noise and smooth images.\n",
    "- **Enhancement**: Histogram equalization and gamma correction improve image contrast and brightness.\n",
    "\n",
    "By visualizing each step in a Jupyter Notebook, you can make these concepts intuitive and easy to understand!"
   ]
  },
  {
   "cell_type": "markdown",
   "metadata": {},
   "source": []
  }
 ],
 "metadata": {
  "kernelspec": {
   "display_name": ".venv",
   "language": "python",
   "name": "python3"
  },
  "language_info": {
   "codemirror_mode": {
    "name": "ipython",
    "version": 3
   },
   "file_extension": ".py",
   "mimetype": "text/x-python",
   "name": "python",
   "nbconvert_exporter": "python",
   "pygments_lexer": "ipython3",
   "version": "3.13.2"
  }
 },
 "nbformat": 4,
 "nbformat_minor": 2
}
